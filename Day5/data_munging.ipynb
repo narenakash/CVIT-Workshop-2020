{
 "cells": [
  {
   "cell_type": "markdown",
   "metadata": {},
   "source": [
    "## CVIT Summer Workshop 2020\n",
    "\n",
    "Day 05 (Morning Session): Feature Engineering\n",
    "\n",
    "Instructor: Chris Andrew Gadde, MS Student, IIIT Hyderabad"
   ]
  },
  {
   "cell_type": "markdown",
   "metadata": {},
   "source": [
    "#### Task overview\n",
    "We have a file that contains the gender, height and weight information. A typical line of the file is:\n",
    "\n",
    "`\"Male\",66.3162319187446,170.593858104457`\n",
    "\n",
    "We want to store all such lines in convenient data structures as three separate items and be able to manipulate them."
   ]
  },
  {
   "cell_type": "markdown",
   "metadata": {},
   "source": [
    "### Part 01: Setup "
   ]
  },
  {
   "cell_type": "code",
   "execution_count": 7,
   "metadata": {},
   "outputs": [
    {
     "name": "stdout",
     "output_type": "stream",
     "text": [
      "Setup completed successfully\n"
     ]
    }
   ],
   "source": [
    "from IPython import get_ipython\n",
    "ipython = get_ipython()\n",
    "\n",
    "ipython.magic(\"sx wget https://cdn.talentsprint.com/aiml/Experiment_related_data/Week0-part_gender_height_weight.csv\")\n",
    "ipython.magic(\"sx wget https://cdn.talentsprint.com/aiml/Experiment_related_data/Week0-full_gender_height_weight.csv\")\n",
    "\n",
    "from IPython.display import HTML, display\n",
    "print(\"Setup completed successfully\")"
   ]
  },
  {
   "cell_type": "markdown",
   "metadata": {},
   "source": [
    "We'll use the locally downloaded version of the dataset."
   ]
  },
  {
   "cell_type": "code",
   "execution_count": 8,
   "metadata": {},
   "outputs": [
    {
     "name": "stdout",
     "output_type": "stream",
     "text": [
      "\"Gender\",\"Height\",\"Weight\"\r",
      "\r\n",
      "\"Male\",73.847017017515,241.893563180437\r",
      "\r\n",
      "\"Male\",68.7819040458903,162.310472521300\r",
      "\r\n",
      "\"Male\",74.1101053917849,212.7408555565\r",
      "\r\n",
      "\"Male\",71.7309784033377,220.042470303077\r",
      "\r\n",
      "\"Male\",69.8817958611153,206.349800623871\r",
      "\r\n",
      "\"Male\",67.2530156878065,152.212155757083\r",
      "\r\n",
      "\"Male\",68.7850812516616,183.927888604031\r",
      "\r\n",
      "\"Male\",68.3485155115879,167.971110489509\r",
      "\r\n",
      "\"Male\",67.018949662883,175.92944039571\r",
      "\r\n"
     ]
    }
   ],
   "source": [
    "!head weight-height.csv"
   ]
  },
  {
   "cell_type": "code",
   "execution_count": 6,
   "metadata": {},
   "outputs": [
    {
     "name": "stdout",
     "output_type": "stream",
     "text": [
      "\"Female\",63.1794982498071,141.266099582434\r",
      "\r\n",
      "\"Female\",62.6366749337994,102.853563214830\r",
      "\r\n",
      "\"Female\",62.0778316936514,138.691680275738\r",
      "\r\n",
      "\"Female\",60.0304337715611,97.6874322554917\r",
      "\r\n",
      "\"Female\",59.0982500313486,110.529685683049\r",
      "\r\n",
      "\"Female\",66.1726521477708,136.777454183235\r",
      "\r\n",
      "\"Female\",67.067154649054,170.867905890713\r",
      "\r\n",
      "\"Female\",63.8679922137577,128.475318784122\r",
      "\r\n",
      "\"Female\",69.0342431307346,163.852461346571\r",
      "\r\n",
      "\"Female\",61.9442458795172,113.649102675312"
     ]
    }
   ],
   "source": [
    "!tail weight-height.csv"
   ]
  },
  {
   "cell_type": "code",
   "execution_count": null,
   "metadata": {},
   "outputs": [],
   "source": [
    "PART_DATA = \"Week0-part_gender_height_weight.csv\"\n",
    "FULL_DATA = \"Week0-full_gender_height_weight.csv\""
   ]
  }
 ],
 "metadata": {
  "kernelspec": {
   "display_name": "Python 3",
   "language": "python",
   "name": "python3"
  },
  "language_info": {
   "codemirror_mode": {
    "name": "ipython",
    "version": 3
   },
   "file_extension": ".py",
   "mimetype": "text/x-python",
   "name": "python",
   "nbconvert_exporter": "python",
   "pygments_lexer": "ipython3",
   "version": "3.7.6"
  }
 },
 "nbformat": 4,
 "nbformat_minor": 4
}
