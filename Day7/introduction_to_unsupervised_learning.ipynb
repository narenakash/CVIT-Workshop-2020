{
 "cells": [
  {
   "cell_type": "markdown",
   "metadata": {},
   "source": [
    "# CVIT Summer Workshop 2020\n",
    "\n",
    "Day 07 (Afternoon Session): Introduction to Unsupervised Learning (Clustering)\n",
    "\n",
    "Instructor: Kartik Gupta, Honours Student, CVIT"
   ]
  },
  {
   "cell_type": "code",
   "execution_count": 1,
   "metadata": {},
   "outputs": [],
   "source": [
    "import numpy as np\n",
    "import matplotlib.cm as cm\n",
    "import matplotlib.pyplot as plt\n",
    "\n",
    "from sklearn.metrics.pairwise import euclidean_distances\n",
    "\n",
    "import seaborn as sns\n",
    "sns.set()\n",
    "sns.set_style(\"dark\")"
   ]
  },
  {
   "cell_type": "markdown",
   "metadata": {},
   "source": [
    "## Visual Plot of 2-D Cluster Data"
   ]
  },
  {
   "cell_type": "code",
   "execution_count": 2,
   "metadata": {},
   "outputs": [],
   "source": [
    "def plot_clusters(points, cluster_labels, offset = 0.01, show_annotation=True):\n",
    "    cluster_labels = np.array(cluster_labels)\n",
    "    unique_clusters = np.unique(cluster_labels)\n",
    "    \n",
    "    if len(points.shape) == 1 or points.shape[1] == 1:\n",
    "        points = np.hstack((points.ravel()[:, None], np.zeros(points.shape[0])[:, None]))\n",
    "        \n",
    "    cluster_labels = np.array(cluster_labels)\n",
    "    points = np.array(points)\n",
    "    \n",
    "    for cluster in unique_clusters:\n",
    "        if (cluster_labels == cluster).any():\n",
    "            plt.scatter(points[cluster_labels == cluster, 0], points[cluster_labels == cluster, 1], label = cluster_labels)\n",
    "            \n",
    "    if show_annotation:\n",
    "        for i in range(points.shape[0]):\n",
    "            plt.annotate(i, (points[i, 0] + offset, points[i, 1] + offset))\n",
    "            \n",
    "    plt.legend()"
   ]
  },
  {
   "cell_type": "code",
   "execution_count": 3,
   "metadata": {},
   "outputs": [],
   "source": [
    "np.random.seed(2)\n",
    "points = np.vstack((np.random.normal(0, 0.5, size = (4, 2)), np.random.normal(3, 0.5, size = (4, 2))))\n",
    "points = np.vstack((points, np.array([[1.5, 1.5]])))\n",
    "points = np.vstack((points, np.array([[1.25, 1.25]])))"
   ]
  },
  {
   "cell_type": "code",
   "execution_count": 4,
   "metadata": {
    "scrolled": false
   },
   "outputs": [
    {
     "data": {
      "text/plain": [
       "<function matplotlib.pyplot.show(*args, **kw)>"
      ]
     },
     "execution_count": 4,
     "metadata": {},
     "output_type": "execute_result"
    },
    {
     "data": {
      "image/png": "[encoded data removed]",
      "text/plain": [
       "<Figure size 432x288 with 1 Axes>"
      ]
     },
     "metadata": {},
     "output_type": "display_data"
    }
   ],
   "source": [
    "cluster_labels = np.zeros((10)).tolist()\n",
    "offset = 0.05\n",
    "\n",
    "plot_clusters(points, cluster_labels, offset)\n",
    "plt.show"
   ]
  },
  {
   "cell_type": "markdown",
   "metadata": {},
   "source": [
    "## Interactive Clustering of Data Points\n",
    "\n",
    "Cluster the data into K clusters. In this example, K = 3 seems to be the best choice."
   ]
  },
  {
   "cell_type": "code",
   "execution_count": 5,
   "metadata": {
    "scrolled": false
   },
   "outputs": [
    {
     "data": {
      "image/png": "[encoded data removed]",
      "text/plain": [
       "<Figure size 432x288 with 1 Axes>"
      ]
     },
     "metadata": {},
     "output_type": "display_data"
    },
    {
     "name": "stdout",
     "output_type": "stream",
     "text": [
      "q\n"
     ]
    }
   ],
   "source": [
    "cluster_labels = np.zeros((10), dtype = np.int32).tolist()\n",
    "unique_clusters = np.unique(cluster_labels).tolist()\n",
    "\n",
    "offset = 0.05\n",
    "\n",
    "plot_clusters(points, cluster_labels, offset)\n",
    "plt.show()\n",
    "\n",
    "while(True):\n",
    "    ip = input()\n",
    "    if ip == 'q':\n",
    "        break\n",
    "        \n",
    "    idx, label = [i.strip() for i in ip.split('-')]\n",
    "    idx = int(idx)\n",
    "    \n",
    "    cluster_labels[idx] = label\n",
    "    if label not in unique_clusters:\n",
    "        unique_clusters.append(label)\n",
    "        \n",
    "    plot_clusters(points, cluster_labels, offset)\n",
    "    plt.show()"
   ]
  },
  {
   "cell_type": "markdown",
   "metadata": {},
   "source": [
    "## How to Qauntify 'Relatedness'?"
   ]
  },
  {
   "cell_type": "code",
   "execution_count": 6,
   "metadata": {},
   "outputs": [],
   "source": [
    "def heatmap(grid, xlabels, ylabels, xrot = 90):\n",
    "    cmap = cm.get_cmap(\"viridis\")\n",
    "    plt.imshow(grid, cmap=cmap)\n",
    "    plt.xticks(np.arange(0, grid.shape[1], step = 1), xlabels, rotation = xrot)\n",
    "    plt.yticks(np.arange(0, grid.shape[0], step = 1), ylabels)"
   ]
  },
  {
   "cell_type": "code",
   "execution_count": 11,
   "metadata": {},
   "outputs": [
    {
     "data": {
      "image/png": "[encoded data removed]",
      "text/plain": [
       "<Figure size 432x288 with 1 Axes>"
      ]
     },
     "metadata": {},
     "output_type": "display_data"
    }
   ],
   "source": [
    "grid = euclidean_distances(points, points)\n",
    "grid = (grid - grid.min(axis = 1)[:, None])/(grid.max(axis=1)[:, None] - grid.min(axis=1)[:, None])\n",
    "\n",
    "xlabels = np.arange(0, points.shape[0])\n",
    "ylabels = np.arange(0, points.shape[0])\n",
    "\n",
    "heatmap(grid, xlabels, ylabels, xrot = 0)"
   ]
  },
  {
   "cell_type": "code",
   "execution_count": 12,
   "metadata": {},
   "outputs": [],
   "source": [
    "k = 3\n",
    "means = np.random.uniform(0, 3, size = (k, 2))"
   ]
  },
  {
   "cell_type": "code",
   "execution_count": 14,
   "metadata": {},
   "outputs": [
    {
     "data": {
      "image/png": "[encoded data removed]",
      "text/plain": [
       "<Figure size 432x288 with 1 Axes>"
      ]
     },
     "metadata": {},
     "output_type": "display_data"
    }
   ],
   "source": [
    "offset = 0.05\n",
    "\n",
    "plt.scatter(points[:, 0], points[:, 1], marker = 'o')\n",
    "\n",
    "for i in range(points.shape[0]):\n",
    "    plt.annotate(i, (points[i, 0] + offset, points[i, 1] + offset))\n",
    "plt.scatter(means[:, 0], means[:, 1], marker = 'x')\n",
    "\n",
    "for i in range(means.shape[0]):\n",
    "    plt.annotate(i, (means[i, 0] + offset, means[i, 1] + offset))"
   ]
  },
  {
   "cell_type": "code",
   "execution_count": 15,
   "metadata": {},
   "outputs": [
    {
     "data": {
      "image/png": "[encoded data removed]",
      "text/plain": [
       "<Figure size 432x288 with 1 Axes>"
      ]
     },
     "metadata": {},
     "output_type": "display_data"
    }
   ],
   "source": [
    "grid = euclidean_distances(points, means)\n",
    "grid = (grid - grid.min(axis=1)[:, None])/(grid.max(axis=1)[:, None] - grid.min(axis=1)[:, None])\n",
    "\n",
    "xlabels = np.arange(0, means.shape[0])\n",
    "ylabels = np.arange(0, points.shape[0])\n",
    "\n",
    "heatmap(grid, xlabels, ylabels, xrot = 0)"
   ]
  },
  {
   "cell_type": "markdown",
   "metadata": {},
   "source": [
    "## Kmeans Clustering\n",
    "\n",
    "#### Aim\n",
    "Get a good placement of the K center points so that meaningful clustering happens.\n",
    "\n",
    "#### What is a 'good' placement for the three centers?\n",
    "A placement that minimizes the average distance of the points in a cluster from the cluster center.\n",
    "\n",
    "#### When is a point P in the cluster i?\n",
    "When Ci - the ith center point is the closest center point to P, P is said to be in cluster i."
   ]
  },
  {
   "cell_type": "markdown",
   "metadata": {},
   "source": [
    "### Algorithm\n",
    "\n",
    "Please write down the algorithm."
   ]
  }
 ],
 "metadata": {
  "kernelspec": {
   "display_name": "Python 3",
   "language": "python",
   "name": "python3"
  },
  "language_info": {
   "codemirror_mode": {
    "name": "ipython",
    "version": 3
   },
   "file_extension": ".py",
   "mimetype": "text/x-python",
   "name": "python",
   "nbconvert_exporter": "python",
   "pygments_lexer": "ipython3",
   "version": "3.7.6"
  }
 },
 "nbformat": 4,
 "nbformat_minor": 4
}
