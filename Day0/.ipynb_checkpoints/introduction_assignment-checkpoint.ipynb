{
 "cells": [
  {
   "cell_type": "markdown",
   "metadata": {
    "colab_type": "text",
    "id": "gYmVIA3BiId9"
   },
   "source": [
    "# CVIT Summer Workshop 2020\n",
    "Day 0 - Introduction to Google Collaboratory and Basic Python Libraries\n",
    "\n",
    "Instructors: Shubh Maheshwari, Swetanjal Dutta"
   ]
  },
  {
   "cell_type": "code",
   "execution_count": null,
   "metadata": {},
   "outputs": [],
   "source": [
    "# Install dependencies\n",
    "!pip3 install numpy\n",
    "!pip3 install matplotlib\n",
    "!pip3 install sklearn"
   ]
  },
  {
   "cell_type": "markdown",
   "metadata": {},
   "source": [
    "### Task 01: List Indexing"
   ]
  },
  {
   "cell_type": "code",
   "execution_count": 1,
   "metadata": {
    "colab": {
     "base_uri": "https://localhost:8080/",
     "height": 85
    },
    "colab_type": "code",
    "id": "Oqi-1kM_h3FB",
    "outputId": "0fca89e3-3c11-445d-a32d-9199a9bfe585"
   },
   "outputs": [
    {
     "name": "stdout",
     "output_type": "stream",
     "text": [
      "List:  [37, 12, 37, 35, 9, 9, 3, 44, 5]\n",
      "Reversed List:  [5, 44, 3, 9, 9, 35, 37, 12, 37]\n",
      "Last Five Elements:  [9, 9, 3, 44, 5]\n",
      "Updated List:  [37, 12, 35, 9, 9, 3, 44, 5]\n"
     ]
    }
   ],
   "source": [
    "import random\n",
    "list = [random.randrange(1, 50, 1) for i in range(0, 9)]\n",
    "print(\"List: \", list)\n",
    "\n",
    "# Task 1.1, print a list in reverse order \n",
    "print(\"Reversed List: \", list[::-1])\n",
    "\n",
    "# Task 1.2, print only the last 5 elements of a list \n",
    "print(\"Last Five Elements: \", list[-5:])\n",
    "\n",
    "# Task 1.3, remove the 3rd element from the list\n",
    "del list[2]\n",
    "print(\"Updated List: \", list)"
   ]
  },
  {
   "cell_type": "markdown",
   "metadata": {
    "colab_type": "text",
    "id": "3uSH0ZXhiyC2"
   },
   "source": [
    "### Task 02: Dictionaries"
   ]
  },
  {
   "cell_type": "code",
   "execution_count": 24,
   "metadata": {
    "colab": {
     "base_uri": "https://localhost:8080/",
     "height": 71
    },
    "colab_type": "code",
    "id": "5Cs5rPagiS_a",
    "outputId": "d7ac9589-7c1c-4b05-c228-4a4be1c4f303"
   },
   "outputs": [
    {
     "name": "stdout",
     "output_type": "stream",
     "text": [
      "Dictionary:  {1: 0, 10: 1, 100: 2, 1000: 3, 10000: 4, 100000: 5, 1000000: 6, 10000000: 7, 100000000: 8, 1000000000: 9}\n",
      "dict_keys([1, 10, 100, 1000, 10000, 100000, 1000000, 10000000, 100000000, 1000000000])\n",
      "Sorted List:  [(1, 0), (10000, 4), (100000000, 8), (10, 1), (100000, 5), (1000000000, 9), (1000, 3), (10000000, 7), (1000000, 6)]\n"
     ]
    }
   ],
   "source": [
    "x = dict([(pow(10, r), r) for r in range(10)])\n",
    "print(\"Dictionary: \", x)\n",
    "\n",
    "# Task 2.1: List all the keys inside the dict \n",
    "print(x.keys())\n",
    "\n",
    "# Task 2.2: Remove key 100 from the dict \n",
    "del x[100]\n",
    "\n",
    "# Task 2.3: Convert the above dict into a list of key, value tuple. Then sort the list based on mod of the key value with number 101\n",
    "list = zip(x.keys(), x.values())\n",
    "print(\"Sorted List: \", sorted(list, key = lambda x: x[0] % 101))"
   ]
  },
  {
   "cell_type": "markdown",
   "metadata": {
    "colab_type": "text",
    "id": "DUGM6tCJi0WM"
   },
   "source": [
    "### Task 03: Linear Algebra using NumPy"
   ]
  },
  {
   "cell_type": "code",
   "execution_count": 3,
   "metadata": {
    "colab": {},
    "colab_type": "code",
    "id": "j8XQurABi3Bb"
   },
   "outputs": [],
   "source": [
    "import numpy as np"
   ]
  },
  {
   "cell_type": "code",
   "execution_count": 4,
   "metadata": {
    "colab": {
     "base_uri": "https://localhost:8080/",
     "height": 68
    },
    "colab_type": "code",
    "id": "_sefsguik5C5",
    "outputId": "fd8456e5-9121-434a-ea43-cb1ad53f9272"
   },
   "outputs": [
    {
     "name": "stdout",
     "output_type": "stream",
     "text": [
      "Randomly Generated Matrix:  [[0.31322221 0.05868415 0.51444303]\n",
      " [0.72911201 0.50370608 0.34388738]\n",
      " [0.6089549  0.61690857 0.3122464 ]]\n"
     ]
    }
   ],
   "source": [
    "# Task 3: Calculate the inverse of a sqaure matrix using np.svd\n",
    "# also verify the results\n",
    "\n",
    "A = np.random.random((3, 3))\n",
    "print(\"Randomly Generated Matrix: \", A)"
   ]
  },
  {
   "cell_type": "markdown",
   "metadata": {
    "colab_type": "text",
    "id": "nmdz7T9moWzn"
   },
   "source": [
    "### Task 04: Plotting"
   ]
  },
  {
   "cell_type": "code",
   "execution_count": 5,
   "metadata": {
    "colab": {},
    "colab_type": "code",
    "id": "ytYxPr93oYax"
   },
   "outputs": [],
   "source": [
    "import matplotlib.pyplot as plt\n",
    "%matplotlib inline"
   ]
  },
  {
   "cell_type": "code",
   "execution_count": 6,
   "metadata": {
    "colab": {
     "base_uri": "https://localhost:8080/",
     "height": 312
    },
    "colab_type": "code",
    "id": "xWNiza9JodtG",
    "outputId": "6c0b9f28-7f6f-4920-a1f6-ee4c83885b03"
   },
   "outputs": [
    {
     "data": {
      "text/plain": [
       "<matplotlib.legend.Legend at 0x7fda00a962b0>"
      ]
     },
     "execution_count": 6,
     "metadata": {},
     "output_type": "execute_result"
    },
    {
     "data": {
      "image/png": "[encoded data removed]",
      "text/plain": [
       "<Figure size 432x288 with 1 Axes>"
      ]
     },
     "metadata": {
      "needs_background": "light"
     },
     "output_type": "display_data"
    }
   ],
   "source": [
    "# Task 4: Create a sin plot which uses both plt.plot and plt.scatter. \n",
    "# Don't forget to add labels\n",
    "\n",
    "x = np.arange(0, 4 * np.pi, 0.1)\n",
    "y = np.sin(x)\n",
    "\n",
    "plt.plot(x, y)\n",
    "plt.scatter(x, y)\n",
    "plt.xlabel('X Value')\n",
    "plt.ylabel('Y Value')\n",
    "plt.title('Sine Line and Scatter Plot')\n",
    "plt.legend(['Sine Line Plot', 'Sine Scatter Plot'])"
   ]
  },
  {
   "cell_type": "markdown",
   "metadata": {
    "colab_type": "text",
    "id": "gAS6wMD2sEL9"
   },
   "source": [
    "### Part 05: Basic Geometry in Computer Vision\n"
   ]
  },
  {
   "cell_type": "code",
   "execution_count": 9,
   "metadata": {},
   "outputs": [
    {
     "data": {
      "text/plain": [
       "[<matplotlib.lines.Line2D at 0x7fda0031ed68>]"
      ]
     },
     "execution_count": 9,
     "metadata": {},
     "output_type": "execute_result"
    },
    {
     "data": {
      "image/png": "[encoded data removed]",
      "text/plain": [
       "<Figure size 432x288 with 1 Axes>"
      ]
     },
     "metadata": {
      "needs_background": "light"
     },
     "output_type": "display_data"
    }
   ],
   "source": [
    "# Task 5: Plot the line x = 25 using ax + by + c = 0 form.\n",
    "\n",
    "a = 1\n",
    "b = 0\n",
    "c = -25\n",
    "\n",
    "y = np.linspace(start = -30, stop = 30, num = 200)\n",
    "x = (-b * y - c) * 1.0 / a\n",
    "plt.plot(x, y, label = 'line')"
   ]
  },
  {
   "cell_type": "code",
   "execution_count": 22,
   "metadata": {},
   "outputs": [
    {
     "data": {
      "text/plain": [
       "<matplotlib.legend.Legend at 0x7fd9ffde8470>"
      ]
     },
     "execution_count": 22,
     "metadata": {},
     "output_type": "execute_result"
    },
    {
     "data": {
      "image/png": "[encoded data removed]",
      "text/plain": [
       "<Figure size 432x288 with 1 Axes>"
      ]
     },
     "metadata": {
      "needs_background": "light"
     },
     "output_type": "display_data"
    }
   ],
   "source": [
    "# Task 6: Plot the line y = 50.\n",
    "\n",
    "a = 0\n",
    "b = 1\n",
    "c = -50\n",
    "\n",
    "x = np.linspace(start = -100, stop = 100, num = 200)\n",
    "y = (-a * x - c) * 1.0 / b\n",
    "plt.plot(x, y, label = 'y-line')\n",
    "\n",
    "w_scaled = [10 * w_element for w_element in w]\n",
    "plt.plot([0, w_scaled[0]], [0, w_scaled[1]], 'b-', label = 'w-scaled-vector')\n",
    "\n",
    "w = [a, b]\n",
    "plt.plot([0, w[0]], [0, w[1]], 'r-', label = 'w-vector')\n",
    "plt.legend(loc = 'lower left')"
   ]
  },
  {
   "cell_type": "code",
   "execution_count": 33,
   "metadata": {},
   "outputs": [
    {
     "name": "stdout",
     "output_type": "stream",
     "text": [
      "Line 01 \n",
      " Normal Method:  50.0 \n",
      " Vectorized Method:  50.0\n",
      "Line 02 \n",
      " Normal Method:  25.0 \n",
      " Vectorized Method:  25.0\n"
     ]
    }
   ],
   "source": [
    "# Task 7: Compute the distance of a line from the origin for the lines x = 50 and y = 25.\n",
    "\n",
    "a1 = 1\n",
    "b1 = 0\n",
    "c1 = -50\n",
    "\n",
    "dist1 = np.absolute(c1) / np.sqrt(np.square(a1) + np.square(b1))\n",
    "w1 = [a1, b1]\n",
    "distw1 = np.absolute(c) / np.linalg.norm(w)\n",
    "\n",
    "print(\"Line 01 \\n Normal Method: \", dist1, \"\\n Vectorized Method: \", distw1)\n",
    "\n",
    "a2 = 0\n",
    "b2 = 1\n",
    "c2 = -25\n",
    "\n",
    "dist2 = np.absolute(c2) / np.sqrt(np.square(a2) + np.square(b2))\n",
    "w2 = [a2, b2]\n",
    "distw2 = np.absolute(c2) / np.linalg.norm(w2)\n",
    "\n",
    "print(\"Line 02 \\n Normal Method: \", dist2, \"\\n Vectorized Method: \", distw2)"
   ]
  },
  {
   "cell_type": "code",
   "execution_count": null,
   "metadata": {},
   "outputs": [],
   "source": [
    "# Task 8: Compute the distance between two parallel lines."
   ]
  },
  {
   "cell_type": "code",
   "execution_count": null,
   "metadata": {},
   "outputs": [],
   "source": [
    "# Task 9: Plot sigmoid, tanh, gaussian, ReLU, leaky ReLu and step function using linspace.\n",
    "\n",
    "x = np.linspace(-10, 10, 200)\n",
    "y = 1.0 / (1.0 + np.exp(-x))\n",
    "plt.plot(x, y, line = 'sigmoid')\n",
    "plt.show()"
   ]
  }
 ],
 "metadata": {
  "colab": {
   "collapsed_sections": [],
   "name": "introduction_assignment.ipynb",
   "provenance": []
  },
  "kernelspec": {
   "display_name": "Python 3",
   "language": "python",
   "name": "python3"
  },
  "language_info": {
   "codemirror_mode": {
    "name": "ipython",
    "version": 3
   },
   "file_extension": ".py",
   "mimetype": "text/x-python",
   "name": "python",
   "nbconvert_exporter": "python",
   "pygments_lexer": "ipython3",
   "version": "3.6.9"
  }
 },
 "nbformat": 4,
 "nbformat_minor": 1
}
