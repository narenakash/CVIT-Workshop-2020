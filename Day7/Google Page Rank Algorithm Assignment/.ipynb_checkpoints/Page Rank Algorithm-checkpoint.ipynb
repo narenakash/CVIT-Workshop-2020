{
 "cells": [
  {
   "cell_type": "markdown",
   "metadata": {},
   "source": [
    "# Google Page Rank Algorithm\n",
    "\n",
    "- Author: Swetanjal Dutta"
   ]
  },
  {
   "cell_type": "markdown",
   "metadata": {},
   "source": [
    "In this notebook, we learn and code up a simplified version of Google's Page Rank Algorithm, which is a direct application of Eigenvectors and Eigenvalues we learnt in Linear Algebra.\n",
    "\n",
    "![image](images/1.png)\n",
    "\n",
    "Reference to the original paper: $\\href{http://ilpubs.stanford.edu:8090/422/1/1999-66.pdf}{here}$\n",
    "\n",
    "Reference to blog:\n",
    "$\\href{https://www.dhruvonmath.com/2019/03/20/pagerank/}{here}$"
   ]
  },
  {
   "cell_type": "markdown",
   "metadata": {},
   "source": [
    "Google Page Rank Algorithm predicts a rank for each webpage on the internet. This rank depends on the number of ingoing and outgoing links to a webpage.\n",
    "\n",
    "You can think of rank of a webpage as follows: If a web page gets rank $1$, it means that a random web searcher who clicks links randomly would spend the most amount of time in this web page. If a web page gets rank $2$, it means that a random web searcher who keeps clicking links randomly would spend the second most amount of time in this web page and so on and so forth.\n",
    "\n",
    "Given the structure of the web, it is very obvious to model the web as a Graph Data structure. The nodes of the graph are the web pages. Edges of the graph represent links between the web pages.\n",
    "\n",
    "Note that the graph is a directed graph. There maybe a link from webpage 'A' to webpage 'B', it may not always be the case that there exists a link from webpage 'B' to webpage 'A'."
   ]
  },
  {
   "cell_type": "markdown",
   "metadata": {},
   "source": [
    "A graph with $N$ nodes can be represented with a $N \\times N$ matrix. This matrix is known as Adjacency matrix.\n",
    "\n",
    "$A_{ij}$ represents the weight of the edge connecting the $j^{th}$ node to the $i^{th}$ node. \n",
    "We can think of this adjacency matrix as concatenation of $N$ column vectors. The $i^{th}$ column defines the edges from node $i$ to all other nodes."
   ]
  },
  {
   "cell_type": "markdown",
   "metadata": {},
   "source": [
    "**Exercise:**\n",
    "Can you draw the graph corresponding to the following adjacency matrix?\n",
    "\n",
    "\\begin{equation}\n",
    "A = \\begin{pmatrix}\n",
    "0 & 1/2 & 0 & 0\\\\\n",
    "1/3 & 0 & 0 & 1/2\\\\\n",
    "1/3 & 0 & 0 & 1/2\\\\\n",
    "1/3 & 1/2 & 1 & 0\\\\\n",
    "\\end{pmatrix}\n",
    "\\end{equation}\n",
    "\n",
    "**Exercise:**\n",
    "Can you write down the adjacency matrix for the following graph?\n",
    "![ex1](images/2.png)"
   ]
  },
  {
   "cell_type": "markdown",
   "metadata": {},
   "source": [
    "Let us normalize each column of the adjacency matrix so that the entries sum upto $1$. This is because we want to output the rank as a probability value of the amount of time spent on that webpage.\n",
    "\n",
    "We start with equiprobable ranks for all webpages. \n",
    "\n",
    "We update the ranks($r$) as follows:\n",
    "\\begin{equation}\n",
    "r(i) = \\underset{j}{\\sum} r(j) * A(i, j)\n",
    "\\end{equation}\n",
    "\\begin{equation}\n",
    "r' = A.r\n",
    "\\end{equation}\n",
    "The above is a recursive definition."
   ]
  },
  {
   "cell_type": "code",
   "execution_count": null,
   "metadata": {},
   "outputs": [],
   "source": [
    "import numpy as np"
   ]
  },
  {
   "cell_type": "code",
   "execution_count": null,
   "metadata": {},
   "outputs": [],
   "source": [
    "# Complete the below function to return A after normalizing\n",
    "# each of it's columns\n",
    "# Normalizing a column means sum of entries in each column adds to 1.\n",
    "# PLEASE USE VECTORISED CODE FOR EFFICIENCY\n",
    "def normalize_columns(A):\n",
    "    pass"
   ]
  },
  {
   "cell_type": "code",
   "execution_count": null,
   "metadata": {},
   "outputs": [],
   "source": [
    "A = np.array([[0, 0, 1, 1], [1, 0, 0, 0], [1, 1, 0, 1], [1, 1, 0, 0]])\n",
    "print(normalize_columns(A))"
   ]
  },
  {
   "cell_type": "markdown",
   "metadata": {},
   "source": [
    "**Expected Output:**\n",
    "\n",
    "[[0.         0.         1.         0.5       ]\n",
    " [0.33333333 0.         0.         0.        ]\n",
    " [0.33333333 0.5        0.         0.5       ]\n",
    " [0.33333333 0.5        0.         0.        ]]"
   ]
  },
  {
   "cell_type": "code",
   "execution_count": null,
   "metadata": {},
   "outputs": [],
   "source": [
    "epsilon = 1e-8"
   ]
  },
  {
   "cell_type": "code",
   "execution_count": null,
   "metadata": {},
   "outputs": [],
   "source": [
    "# Complete the below function to take a matrix A and a vector r.\n",
    "# Return the updated rank.\n",
    "# PLEASE USE VECTORISED CODE WITHOUT LOOPS\n",
    "def update_rank(A, r):\n",
    "    pass"
   ]
  },
  {
   "cell_type": "code",
   "execution_count": null,
   "metadata": {},
   "outputs": [],
   "source": [
    "# Complete the below function to check if two vectors a and b are equal\n",
    "# Since we are dealing with real numbers, \n",
    "# we say two elements(x and y) are equal if abs(x - y) <= epsilon\n",
    "\n",
    "# PLEASE USE VECTORISED CODE WITHOUT LOOPS\n",
    "def check_equality(a, b):\n",
    "    pass"
   ]
  },
  {
   "cell_type": "code",
   "execution_count": null,
   "metadata": {},
   "outputs": [],
   "source": [
    "# Complete the below function to compute ranks iteratively until \n",
    "# ranks stabilise.\n",
    "# We say ranks become stabilised when the after updation the ranks\n",
    "# do not change.\n",
    "# Use the functions defined above.\n",
    "def compute_iteratively(A, initial_rank):\n",
    "    pass"
   ]
  },
  {
   "cell_type": "code",
   "execution_count": null,
   "metadata": {},
   "outputs": [],
   "source": [
    "# Complete the below function to compute final ranks at one shot using\n",
    "# eigen values and eigen vectors\n",
    "# You may use inbuilt functions to compute eigenvectors and eigenvalues\n",
    "def compute_using_eig(A, initial_rank):\n",
    "    pass"
   ]
  },
  {
   "cell_type": "code",
   "execution_count": null,
   "metadata": {},
   "outputs": [],
   "source": [
    "A = np.array([[0, 1, 0, 0], [1, 0, 0, 1], [1, 0, 0, 1], [1, 1, 1, 0]])\n",
    "A = normalize_columns(A)\n",
    "r = np.array([0.25, 0.25, 0.25, 0.25])\n",
    "print(\"Rank computed iteratively: \\n\", compute_iteratively(A, r))\n",
    "print(\"Rank computed using eigen values and eigen vectors: \\n\", compute_using_eig(A, r))"
   ]
  },
  {
   "cell_type": "markdown",
   "metadata": {},
   "source": [
    "**Expected Output:**\n",
    "\n",
    "Rank computed iteratively: \n",
    " [0.12       0.24       0.24       0.39999999]\n",
    "\n",
    "Rank computed using eigen values and eigen vectors: \n",
    " [0.12 0.24 0.24 0.4 ]"
   ]
  },
  {
   "cell_type": "code",
   "execution_count": null,
   "metadata": {},
   "outputs": [],
   "source": [
    "A = np.array([[0, 0, 1, 1], [1, 0, 0, 0], [1, 1, 0, 1], [1, 1, 0, 0]])\n",
    "A = normalize_columns(A)\n",
    "r = np.array([0.25, 0.25, 0.25, 0.25])\n",
    "print(\"Rank computed iteratively: \\n\", compute_iteratively(A, r))\n",
    "print(\"Rank computed using eigen values and eigen vectors: \\n\", compute_using_eig(A, r))"
   ]
  },
  {
   "cell_type": "markdown",
   "metadata": {},
   "source": [
    "**Expected Output:**\n",
    "\n",
    "Rank computed iteratively: \n",
    "\n",
    "[0.38709677 0.12903226 0.29032258 0.19354839]\n",
    "\n",
    "Rank computed using eigen values and eigen vectors: \n",
    "\n",
    "[0.38709677 0.12903226 0.29032258 0.19354839]"
   ]
  },
  {
   "cell_type": "code",
   "execution_count": null,
   "metadata": {},
   "outputs": [],
   "source": []
  }
 ],
 "metadata": {
  "kernelspec": {
   "display_name": "Base",
   "language": "python",
   "name": "myenv"
  },
  "language_info": {
   "codemirror_mode": {
    "name": "ipython",
    "version": 3
   },
   "file_extension": ".py",
   "mimetype": "text/x-python",
   "name": "python",
   "nbconvert_exporter": "python",
   "pygments_lexer": "ipython3",
   "version": "3.7.4"
  }
 },
 "nbformat": 4,
 "nbformat_minor": 2
}
