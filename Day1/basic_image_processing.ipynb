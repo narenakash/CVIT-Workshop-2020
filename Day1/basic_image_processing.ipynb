{
 "cells": [
  {
   "cell_type": "markdown",
   "metadata": {},
   "source": [
    "# CVIT Summer Workshop 2020\n",
    "\n",
    "Day 02: Basic Image Processing\n",
    "\n",
    "Instructors: Sanjana Gunna, Aditya Aggarwal"
   ]
  },
  {
   "cell_type": "code",
   "execution_count": 1,
   "metadata": {},
   "outputs": [],
   "source": [
    "import numpy as np\n",
    "import cv2\n",
    "\n",
    "import matplotlib.pyplot as plt\n",
    "\n",
    "from matplotlib import pyplot as plt\n",
    "\n",
    "from skimage import io\n",
    "from skimage import morphology as morp\n",
    "\n",
    "import plotly\n",
    "import plotly.express as px\n",
    "import plotly.graph_objects as go"
   ]
  },
  {
   "cell_type": "markdown",
   "metadata": {},
   "source": [
    "## Exercise 01: Fundamentals\n",
    "\n",
    "1. Read `lena.png` and print the dimensions.\n",
    "2. Read `chair.png` and print the dimensions.\n",
    "3. Verify if you are getting 4 channels in `chair.png`.\n",
    "4. Plot the mask of the chair in the image `chair.png`."
   ]
  },
  {
   "cell_type": "code",
   "execution_count": 2,
   "metadata": {},
   "outputs": [
    {
     "name": "stdout",
     "output_type": "stream",
     "text": [
      "(512, 512, 3)\n"
     ]
    }
   ],
   "source": [
    "I1 = cv2.imread('./Image Processing/lena.png')\n",
    "print(I1.shape)"
   ]
  },
  {
   "cell_type": "code",
   "execution_count": 3,
   "metadata": {},
   "outputs": [],
   "source": [
    "cv2.imshow('lena.png', I1)\n",
    "cv2.waitKey(0)\n",
    "cv2.destroyAllWindows()"
   ]
  },
  {
   "cell_type": "code",
   "execution_count": 4,
   "metadata": {},
   "outputs": [
    {
     "name": "stdout",
     "output_type": "stream",
     "text": [
      "(137, 137, 4)\n"
     ]
    }
   ],
   "source": [
    "I2 = cv2.imread('./Image Processing/chair.png', cv2.IMREAD_UNCHANGED)\n",
    "print(I2.shape)\n",
    "cv2.imshow('Chair', I2)\n",
    "cv2.waitKey(0)\n",
    "cv2.destroyAllWindows()"
   ]
  },
  {
   "cell_type": "code",
   "execution_count": 5,
   "metadata": {},
   "outputs": [],
   "source": [
    "cv2.imshow('Chair', I2[:,:,0])\n",
    "cv2.waitKey(0)\n",
    "cv2.destroyAllWindows()\n",
    "\n",
    "cv2.imshow('Chair', I2[:,:,1])\n",
    "cv2.waitKey(0)\n",
    "cv2.destroyAllWindows()\n",
    "\n",
    "cv2.imshow('Chair', I2[:,:,2])\n",
    "cv2.waitKey(0)\n",
    "cv2.destroyAllWindows()\n",
    "\n",
    "cv2.imshow('Chair', I2[:,:,3])\n",
    "cv2.waitKey(0)\n",
    "cv2.destroyAllWindows()"
   ]
  },
  {
   "cell_type": "markdown",
   "metadata": {},
   "source": [
    "## Exercise 02: Linear Intensity Transformation\n",
    "\n",
    "Read `lena.png` in grayscale and shift the intensity values by 45 and visualize."
   ]
  },
  {
   "cell_type": "code",
   "execution_count": 6,
   "metadata": {},
   "outputs": [
    {
     "name": "stdout",
     "output_type": "stream",
     "text": [
      "(512, 512)\n",
      "(512, 512)\n"
     ]
    }
   ],
   "source": [
    "I_lena_grayscale = cv2.imread('./Image Processing/lena.png', cv2.IMREAD_GRAYSCALE)\n",
    "print(I_lena_grayscale.shape)\n",
    "cv2.imshow('Lena Grayscale', I_lena_grayscale)\n",
    "cv2.waitKey(0)\n",
    "cv2.destroyAllWindows()\n",
    "\n",
    "linear_shift = 45\n",
    "I_lena_shifted = I_lena_grayscale + linear_shift\n",
    "print(I_lena_shifted.shape)\n",
    "cv2.imshow('Lena Shifted', I_lena_shifted)\n",
    "cv2.waitKey(0)\n",
    "cv2.destroyAllWindows()\n",
    "\n",
    "I_lena_shifted_clipped = np.clip((I_lena_grayscale.astype(int) + linear_shift), 0, 255).astype('uint8')\n",
    "cv2.imshow('Comparision', np.hstack([I_lena_grayscale, I_lena_shifted, I_lena_shifted_clipped]))\n",
    "cv2.waitKey(0)\n",
    "cv2.destroyAllWindows()"
   ]
  },
  {
   "cell_type": "markdown",
   "metadata": {},
   "source": [
    "## Exercise 03: Power Log (Gamma) Transformation\n",
    "\n",
    "Perform gamma transformation on the images `gamma1.jpg` and `gamma2.jpg` and see which values of gamma give you better images. Use C = 1."
   ]
  },
  {
   "cell_type": "code",
   "execution_count": 7,
   "metadata": {},
   "outputs": [],
   "source": [
    "I_gamma1 = cv2.imread('./Image Processing/gamma1.jpg')\n",
    "I_gamma_transformed1 = np.clip(255 * (I_gamma1 / 255)**1.2, 0, 255).astype('uint8')\n",
    "\n",
    "cv2.imshow('Gamma Transformation', I_gamma_transformed1)\n",
    "cv2.waitKey(0)\n",
    "cv2.destroyAllWindows()"
   ]
  },
  {
   "cell_type": "code",
   "execution_count": 8,
   "metadata": {},
   "outputs": [],
   "source": [
    "I_gamma2 = cv2.imread('./Image Processing/gamma2.jpg')\n",
    "I_gamma_transformed2 = np.clip(255 * (I_gamma2 / 255)**1.2, 0, 255).astype('uint8')\n",
    "\n",
    "cv2.imshow('Gamma Transformation', I_gamma_transformed2)\n",
    "cv2.waitKey(0)\n",
    "cv2.destroyAllWindows()"
   ]
  },
  {
   "cell_type": "markdown",
   "metadata": {},
   "source": [
    "## Exercise 04: Naive Histogram Plots\n",
    "\n",
    "Write a program to read and plot a histogram for a grayscale image."
   ]
  },
  {
   "cell_type": "code",
   "execution_count": 9,
   "metadata": {},
   "outputs": [],
   "source": [
    "I_lena_gs = cv2.imread('./Image Processing/lena.png', cv2.IMREAD_GRAYSCALE)\n",
    "I_lena_gs = np.clip(I_lena_gs, 0, 255).astype('uint8')\n",
    "\n",
    "cv2.imshow('Grayscale Lena', I_lena_gs)\n",
    "cv2.waitKey(0)\n",
    "cv2.destroyAllWindows()\n",
    "\n",
    "height, width = I_lena_gs.shape\n",
    "\n",
    "x = np.arange(0, 256, 1)\n",
    "intensity = np.zeros(256)\n",
    "\n",
    "for h in range(height):\n",
    "    for w in range(width):\n",
    "        intensity[I_lena_gs[h][w]] += 1"
   ]
  },
  {
   "cell_type": "code",
   "execution_count": 10,
   "metadata": {},
   "outputs": [
    {
     "data": {
      "text/plain": [
       "<BarContainer object of 256 artists>"
      ]
     },
     "execution_count": 10,
     "metadata": {},
     "output_type": "execute_result"
    },
    {
     "data": {
      "image/png": "[encoded data removed]",
      "text/plain": [
       "<Figure size 432x288 with 1 Axes>"
      ]
     },
     "metadata": {
      "needs_background": "light"
     },
     "output_type": "display_data"
    }
   ],
   "source": [
    "plt.bar(x, intensity)"
   ]
  },
  {
   "cell_type": "markdown",
   "metadata": {},
   "source": [
    "## Exercise 05: Simple Thresholding\n",
    "\n",
    "Perform simple thresholding on the image `FingerPrint.jpg`. Plot the histogram and observe the threshold value. You can use inbuilt function for thresholding."
   ]
  },
  {
   "cell_type": "code",
   "execution_count": 11,
   "metadata": {},
   "outputs": [
    {
     "name": "stdout",
     "output_type": "stream",
     "text": [
      "Shape:  (480, 400)\n"
     ]
    }
   ],
   "source": [
    "I_fingerprint = cv2.imread('./Image Processing/FingerPrint.jpg', cv2.IMREAD_UNCHANGED)\n",
    "print(\"Shape: \", I_fingerprint.shape)"
   ]
  },
  {
   "cell_type": "code",
   "execution_count": 12,
   "metadata": {},
   "outputs": [
    {
     "data": {
      "text/plain": [
       "[<matplotlib.lines.Line2D at 0x7f953e55da20>]"
      ]
     },
     "execution_count": 12,
     "metadata": {},
     "output_type": "execute_result"
    },
    {
     "data": {
      "image/png": "[encoded data removed]",
      "text/plain": [
       "<Figure size 432x288 with 1 Axes>"
      ]
     },
     "metadata": {
      "needs_background": "light"
     },
     "output_type": "display_data"
    }
   ],
   "source": [
    "histogram1 = cv2.calcHist([I_fingerprint], [0], None, [255], [0, 256])\n",
    "plt.plot(histogram1)"
   ]
  },
  {
   "cell_type": "code",
   "execution_count": 13,
   "metadata": {},
   "outputs": [],
   "source": [
    "_, I_fingerprint_st = cv2.threshold(I_fingerprint, 160, 255, cv2.THRESH_BINARY)\n",
    "\n",
    "cv2.imshow('Simple Thresholding', I_fingerprint_st)\n",
    "cv2.waitKey(0)\n",
    "cv2.destroyAllWindows()"
   ]
  },
  {
   "cell_type": "code",
   "execution_count": 14,
   "metadata": {},
   "outputs": [
    {
     "data": {
      "image/png": "[encoded data removed]",
      "text/plain": [
       "<Figure size 432x288 with 1 Axes>"
      ]
     },
     "metadata": {
      "needs_background": "light"
     },
     "output_type": "display_data"
    }
   ],
   "source": [
    "_ = plt.hist(I_fingerprint_st.ravel(), bins = 256)"
   ]
  },
  {
   "cell_type": "markdown",
   "metadata": {},
   "source": [
    "Perform simple thresholding on the image `sudoku.jpeg` in grayscale. Plot the histogram and observe the threshold value. You can use an inbuilt function for thresholding."
   ]
  },
  {
   "cell_type": "code",
   "execution_count": 15,
   "metadata": {},
   "outputs": [
    {
     "name": "stdout",
     "output_type": "stream",
     "text": [
      "Shape:  (423, 419, 3)\n"
     ]
    }
   ],
   "source": [
    "I_sudoku = cv2.imread('./Image Processing/sudoku.jpeg', cv2.IMREAD_UNCHANGED)\n",
    "print(\"Shape: \", I_sudoku.shape)"
   ]
  },
  {
   "cell_type": "code",
   "execution_count": 16,
   "metadata": {},
   "outputs": [
    {
     "data": {
      "text/plain": [
       "[<matplotlib.lines.Line2D at 0x7f953e1e3278>]"
      ]
     },
     "execution_count": 16,
     "metadata": {},
     "output_type": "execute_result"
    },
    {
     "data": {
      "image/png": "[encoded data removed]",
      "text/plain": [
       "<Figure size 432x288 with 1 Axes>"
      ]
     },
     "metadata": {
      "needs_background": "light"
     },
     "output_type": "display_data"
    }
   ],
   "source": [
    "histogram2 = cv2.calcHist([I_sudoku], [0], None, [255], [0, 256])\n",
    "plt.plot(histogram2)"
   ]
  },
  {
   "cell_type": "code",
   "execution_count": 17,
   "metadata": {},
   "outputs": [],
   "source": [
    "_, I_sudoku_st = cv2.threshold(I_sudoku, 150, 255, cv2.THRESH_BINARY)\n",
    "\n",
    "cv2.imshow('Simple Thresholding Fails for Sudoku', I_sudoku_st)\n",
    "cv2.waitKey(0)\n",
    "cv2.destroyAllWindows()"
   ]
  },
  {
   "cell_type": "markdown",
   "metadata": {},
   "source": [
    "## Exercise 05: Adaptive Thresholding\n"
   ]
  },
  {
   "cell_type": "code",
   "execution_count": 18,
   "metadata": {
    "scrolled": false
   },
   "outputs": [],
   "source": [
    "# I_sudoku_at = cv2.adaptiveThreshold(I_sudoku, 255, cv2.ADAPTIVE_THRESH_MEAN_C, \n",
    "#                                        cv2.THRESH_BINARY, 11, 2)\n",
    "\n",
    "# cv2.imshow('Adaptive Mean Thresholding', I_sudoku_at)\n",
    "# cv2.waitKey(0)\n",
    "# cv2.destroyAllWindows()"
   ]
  },
  {
   "cell_type": "markdown",
   "metadata": {},
   "source": [
    "## Exercise 06: Naive Implementation of Convolution\n",
    "\n",
    "Write a function which takes an image section and filter as an input and gives the convolution output. Take the filter to be np.array([[1,1,1],[1,1,1],[1,1,1]])/9. (Smoothing Filter)\n"
   ]
  },
  {
   "cell_type": "code",
   "execution_count": 19,
   "metadata": {},
   "outputs": [],
   "source": [
    "I_bell_gs = cv2.imread('./Image Processing/bell.jpg', cv2.IMREAD_GRAYSCALE)\n",
    "kernel = np.ones((3, 3)) / 9\n",
    "\n",
    "def convolution(image, kernel):\n",
    "    image_output = np.zeros_like(image)\n",
    "    \n",
    "    height, width = image.shape\n",
    "    for i in range(1, height - 3):\n",
    "        for j in range(1, width - 3): \n",
    "            image_output[i,j] = np.sum(kernel * image[i : i+3, j : j+3])\n",
    "            \n",
    "    return image_output"
   ]
  },
  {
   "cell_type": "code",
   "execution_count": 20,
   "metadata": {},
   "outputs": [],
   "source": [
    "I_bell_smooth =  convolution(I_bell_gs, kernel)\n",
    "cv2.imshow('Convolution', np.hstack([I_bell_gs, I_bell_smooth]))\n",
    "cv2.waitKey(0)\n",
    "cv2.destroyAllWindows()"
   ]
  },
  {
   "cell_type": "markdown",
   "metadata": {},
   "source": [
    "## Exercise 07: Sharpening\n"
   ]
  },
  {
   "cell_type": "code",
   "execution_count": 21,
   "metadata": {},
   "outputs": [],
   "source": [
    "sharpening_kernel = np.array([[1, 1, 1], [1, -8, 1], [1, 1, 1]])\n",
    "\n",
    "I_bell_sharp =  convolution(I_bell_gs, sharpening_kernel)\n",
    "cv2.imshow('Convolution', np.hstack([I_bell_gs, I_bell_sharp]))\n",
    "cv2.waitKey(0)\n",
    "cv2.destroyAllWindows()"
   ]
  },
  {
   "cell_type": "markdown",
   "metadata": {},
   "source": [
    "## Exercise 08: Edge Detection (Sobel Filter)\n",
    "\n",
    "Detect the vertical and horizontal edges in image `window.jpeg` using edge detection filters."
   ]
  },
  {
   "cell_type": "code",
   "execution_count": 22,
   "metadata": {},
   "outputs": [],
   "source": [
    "sobel_x_filter = np.array([[-1, 0, 1],[-2, 0, 2],[-1, 0, 1]])\n",
    "sobel_y_filter = np.array([[-1, -2, -1],[0, 0, 0],[1, 2, 1]])\n",
    "\n",
    "I_window = cv2.imread('./Image Processing/window.jpeg', cv2.IMREAD_UNCHANGED)\n",
    "\n",
    "horizontal_edges = cv2.filter2D(I_window, -1, sobel_x_filter)\n",
    "vertical_edges = cv2.filter2D(I_window, -1, sobel_y_filter)\n",
    "\n",
    "cv2.imshow('', np.hstack([I_window, horizontal_edges, vertical_edges]))\n",
    "cv2.waitKey(0)\n",
    "cv2.destroyAllWindows()"
   ]
  },
  {
   "cell_type": "markdown",
   "metadata": {},
   "source": [
    "## Exercise 09: Counting Windows\n",
    "\n",
    "Count the number of windows in image `window.jpeg` using edge detection filters."
   ]
  },
  {
   "cell_type": "code",
   "execution_count": 26,
   "metadata": {},
   "outputs": [
    {
     "data": {
      "image/png": "[encoded data removed]",
      "text/plain": [
       "<Figure size 432x288 with 1 Axes>"
      ]
     },
     "metadata": {
      "needs_background": "light"
     },
     "output_type": "display_data"
    }
   ],
   "source": [
    "histogramA = cv2.calcHist([horizontal_edges], [0], None, [255], [0, 256])\n",
    "plt.plot(histogramA)\n",
    "\n",
    "_, I_horizontal_st = cv2.threshold(horizontal_edges, 165, 255, cv2.THRESH_BINARY)\n",
    "\n",
    "cv2.imshow('Simple Thresholding', I_horizontal_st)\n",
    "cv2.waitKey(0)\n",
    "cv2.destroyAllWindows()"
   ]
  },
  {
   "cell_type": "code",
   "execution_count": 27,
   "metadata": {},
   "outputs": [
    {
     "data": {
      "image/png": "[encoded data removed]",
      "text/plain": [
       "<Figure size 432x288 with 1 Axes>"
      ]
     },
     "metadata": {
      "needs_background": "light"
     },
     "output_type": "display_data"
    }
   ],
   "source": [
    "histogramB = cv2.calcHist([vertical_edges], [0], None, [255], [0, 256])\n",
    "plt.plot(histogramB)\n",
    "\n",
    "_, I_vertical_st = cv2.threshold(vertical_edges, 165, 255, cv2.THRESH_BINARY)\n",
    "\n",
    "cv2.imshow('Simple Thresholding', I_vertical_st)\n",
    "cv2.waitKey(0)\n",
    "cv2.destroyAllWindows()"
   ]
  },
  {
   "cell_type": "code",
   "execution_count": null,
   "metadata": {},
   "outputs": [],
   "source": []
  }
 ],
 "metadata": {
  "kernelspec": {
   "display_name": "Python 3",
   "language": "python",
   "name": "python3"
  },
  "language_info": {
   "codemirror_mode": {
    "name": "ipython",
    "version": 3
   },
   "file_extension": ".py",
   "mimetype": "text/x-python",
   "name": "python",
   "nbconvert_exporter": "python",
   "pygments_lexer": "ipython3",
   "version": "3.6.9"
  }
 },
 "nbformat": 4,
 "nbformat_minor": 4
}
